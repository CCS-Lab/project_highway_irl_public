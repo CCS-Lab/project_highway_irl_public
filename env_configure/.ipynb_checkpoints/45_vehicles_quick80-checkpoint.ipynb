{
 "cells": [
  {
   "cell_type": "code",
   "execution_count": 1,
   "id": "85a0f412-a6fd-4dd2-9e9c-05dce8170010",
   "metadata": {},
   "outputs": [],
   "source": [
    "import highway_irl\n",
    "import numpy as np\n",
    "import gym\n",
    "\n",
    "env = gym.make('IRL-v1')\n",
    "env.configure({\n",
    "    \"manual_control\": False,\n",
    "    'duration':60,\n",
    "    \"vehicles_count\":45,\n",
    "    \"vehicles_density\": 1,\n",
    "    'policy_frequency':5,\n",
    "    \"real_time_rendering\": False,\n",
    "    \"reward_speed_range\": [20, 80],\n",
    "    \"car_allocation\":[0.33,0.34,0.33],\n",
    "    \"show_reward\": True,\n",
    "    \"seed\": 0,\n",
    "    \"initial_speed\": 20.0,\n",
    "    \"speed_increment\":10,\n",
    "    \"max_speed\":80,\n",
    "    \"observation\": {\n",
    "        \"type\": \"Kinematics\",\n",
    "        \"absolute\": True,\n",
    "        \"normalize\": False,\n",
    "        \"vehicles_count\": 10\n",
    "    },\n",
    "    \"prevent_threshold\": 2\n",
    "})"
   ]
  },
  {
   "cell_type": "code",
   "execution_count": 2,
   "id": "139680de-21bd-47ef-9c85-14af7832eed5",
   "metadata": {},
   "outputs": [],
   "source": [
    "np.save('config_45_quick8010',env.config.copy())"
   ]
  },
  {
   "cell_type": "code",
   "execution_count": null,
   "id": "f89cf1c8-8649-48b0-9c85-98bcff58ea42",
   "metadata": {},
   "outputs": [],
   "source": []
  }
 ],
 "metadata": {
  "kernelspec": {
   "display_name": "Python 3 (ipykernel)",
   "language": "python",
   "name": "python3"
  },
  "language_info": {
   "codemirror_mode": {
    "name": "ipython",
    "version": 3
   },
   "file_extension": ".py",
   "mimetype": "text/x-python",
   "name": "python",
   "nbconvert_exporter": "python",
   "pygments_lexer": "ipython3",
   "version": "3.9.7"
  }
 },
 "nbformat": 4,
 "nbformat_minor": 5
}
