{
 "cells": [
  {
   "cell_type": "code",
   "execution_count": 11,
   "id": "5cbeea96-80c4-4d23-9d77-32c635e13dce",
   "metadata": {},
   "outputs": [],
   "source": [
    "import highway_irl\n",
    "import numpy as np\n",
    "import gym\n",
    "\n",
    "env = gym.make('IRL-v1')\n",
    "env.configure({\n",
    "    \"manual_control\": False,\n",
    "    'duration':60,\n",
    "    \"vehicles_count\":35,\n",
    "    'policy_frequency':5,\n",
    "    \"real_time_rendering\": False,\n",
    "    \"car_allocation\":[0.33,0.34,0.33],\n",
    "    \"show_reward\": True,\n",
    "    \"seed\": 0,\n",
    "    \"initial_speed\": 20.0,\n",
    "    \"speed_increment\":5,\n",
    "    \"max_speed\":60,\n",
    "    \"observation\": {\n",
    "        \"type\": \"Kinematics\",\n",
    "        \"absolute\": True,\n",
    "        \"normalize\": False,\n",
    "        \"vehicles_count\": 10\n",
    "    },\n",
    "    \"prevent_threshold\": 5\n",
    "})"
   ]
  },
  {
   "cell_type": "code",
   "execution_count": 12,
   "id": "347857d9-499b-4bea-8f4c-ceb8ae4a455f",
   "metadata": {},
   "outputs": [
    {
     "data": {
      "text/plain": [
       "{'observation': {'type': 'Kinematics',\n",
       "  'absolute': True,\n",
       "  'normalize': False,\n",
       "  'vehicles_count': 10},\n",
       " 'action': {'type': 'DiscreteMetaAction'},\n",
       " 'simulation_frequency': 15,\n",
       " 'policy_frequency': 5,\n",
       " 'other_vehicles_type': 'highway_env.vehicle.behavior.IDMVehicle',\n",
       " 'screen_width': 600,\n",
       " 'screen_height': 150,\n",
       " 'centering_position': [0.3, 0.5],\n",
       " 'scaling': 5.5,\n",
       " 'show_trajectories': False,\n",
       " 'render_agent': True,\n",
       " 'offscreen_rendering': False,\n",
       " 'manual_control': False,\n",
       " 'real_time_rendering': False,\n",
       " 'lanes_count': 3,\n",
       " 'vehicles_count': 35,\n",
       " 'controlled_vehicles': 1,\n",
       " 'initial_lane_id': 1,\n",
       " 'duration': 60,\n",
       " 'ego_spacing': 2,\n",
       " 'vehicles_density': 1,\n",
       " 'collision_reward': -50,\n",
       " 'right_lane_reward': 0,\n",
       " 'high_speed_reward': 8,\n",
       " 'lane_change_reward': 0,\n",
       " 'reward_speed_range': [20, 60],\n",
       " 'offroad_terminal': False,\n",
       " 'car_allocation': [0.33, 0.34, 0.33],\n",
       " 'show_reward': True,\n",
       " 'show_speed': True,\n",
       " 'seed': 0,\n",
       " 'initial_speed': 20.0,\n",
       " 'max_reward': 0,\n",
       " 'prevent_threshold': 5,\n",
       " 'speed_increment': 5,\n",
       " 'max_speed': 60}"
      ]
     },
     "execution_count": 12,
     "metadata": {},
     "output_type": "execute_result"
    }
   ],
   "source": [
    "env.config.copy()"
   ]
  },
  {
   "cell_type": "code",
   "execution_count": 13,
   "id": "60f8ca6c-8b21-4c35-afdb-c8f3f555d1ad",
   "metadata": {},
   "outputs": [],
   "source": [
    "np.save('config_35',env.config.copy())"
   ]
  },
  {
   "cell_type": "code",
   "execution_count": null,
   "id": "c5076381-fe26-4654-a8b2-d73e9894c7ea",
   "metadata": {},
   "outputs": [],
   "source": []
  }
 ],
 "metadata": {
  "kernelspec": {
   "display_name": "Python 3 (ipykernel)",
   "language": "python",
   "name": "python3"
  },
  "language_info": {
   "codemirror_mode": {
    "name": "ipython",
    "version": 3
   },
   "file_extension": ".py",
   "mimetype": "text/x-python",
   "name": "python",
   "nbconvert_exporter": "python",
   "pygments_lexer": "ipython3",
   "version": "3.9.7"
  }
 },
 "nbformat": 4,
 "nbformat_minor": 5
}
