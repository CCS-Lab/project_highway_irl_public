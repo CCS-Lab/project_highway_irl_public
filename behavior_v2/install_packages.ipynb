{
 "cells": [
  {
   "cell_type": "code",
   "execution_count": 2,
   "metadata": {
    "tags": []
   },
   "outputs": [
    {
     "name": "stdout",
     "output_type": "stream",
     "text": [
      "Obtaining file:///home/shlee/project_highway_sim/behavior_v2\n",
      "Requirement already satisfied: numpy in /home/shlee/anaconda3/lib/python3.9/site-packages (from highway-irl-v2==0.1.0) (1.22.1)\n",
      "Requirement already satisfied: matplotlib in /home/shlee/anaconda3/lib/python3.9/site-packages (from highway-irl-v2==0.1.0) (3.4.3)\n",
      "Requirement already satisfied: gym in /home/shlee/anaconda3/lib/python3.9/site-packages (from highway-irl-v2==0.1.0) (0.17.2)\n",
      "Requirement already satisfied: gym-minigrid in /home/shlee/anaconda3/lib/python3.9/site-packages (from highway-irl-v2==0.1.0) (1.0.3)\n",
      "Requirement already satisfied: pygame in /home/shlee/anaconda3/lib/python3.9/site-packages (from highway-irl-v2==0.1.0) (2.1.2)\n",
      "Requirement already satisfied: highway-env in /home/shlee/anaconda3/lib/python3.9/site-packages (from highway-irl-v2==0.1.0) (1.4)\n",
      "Requirement already satisfied: scipy in /home/shlee/anaconda3/lib/python3.9/site-packages (from gym->highway-irl-v2==0.1.0) (1.7.1)\n",
      "Requirement already satisfied: cloudpickle<1.4.0,>=1.2.0 in /home/shlee/anaconda3/lib/python3.9/site-packages (from gym->highway-irl-v2==0.1.0) (1.3.0)\n",
      "Requirement already satisfied: pyglet<=1.5.0,>=1.4.0 in /home/shlee/anaconda3/lib/python3.9/site-packages (from gym->highway-irl-v2==0.1.0) (1.5.0)\n",
      "Requirement already satisfied: future in /home/shlee/anaconda3/lib/python3.9/site-packages (from pyglet<=1.5.0,>=1.4.0->gym->highway-irl-v2==0.1.0) (0.18.2)\n",
      "Requirement already satisfied: pandas in /home/shlee/anaconda3/lib/python3.9/site-packages (from highway-env->highway-irl-v2==0.1.0) (1.3.4)\n",
      "Requirement already satisfied: cycler>=0.10 in /home/shlee/anaconda3/lib/python3.9/site-packages (from matplotlib->highway-irl-v2==0.1.0) (0.10.0)\n",
      "Requirement already satisfied: pillow>=6.2.0 in /home/shlee/anaconda3/lib/python3.9/site-packages (from matplotlib->highway-irl-v2==0.1.0) (8.4.0)\n",
      "Requirement already satisfied: pyparsing>=2.2.1 in /home/shlee/anaconda3/lib/python3.9/site-packages (from matplotlib->highway-irl-v2==0.1.0) (3.0.4)\n",
      "Requirement already satisfied: python-dateutil>=2.7 in /home/shlee/anaconda3/lib/python3.9/site-packages (from matplotlib->highway-irl-v2==0.1.0) (2.8.2)\n",
      "Requirement already satisfied: kiwisolver>=1.0.1 in /home/shlee/anaconda3/lib/python3.9/site-packages (from matplotlib->highway-irl-v2==0.1.0) (1.3.1)\n",
      "Requirement already satisfied: six in /home/shlee/anaconda3/lib/python3.9/site-packages (from cycler>=0.10->matplotlib->highway-irl-v2==0.1.0) (1.16.0)\n",
      "Requirement already satisfied: pytz>=2017.3 in /home/shlee/anaconda3/lib/python3.9/site-packages (from pandas->highway-env->highway-irl-v2==0.1.0) (2021.3)\n",
      "Installing collected packages: highway-irl-v2\n",
      "  Attempting uninstall: highway-irl-v2\n",
      "    Found existing installation: highway-irl-v2 0.1.0\n",
      "    Uninstalling highway-irl-v2-0.1.0:\n",
      "      Successfully uninstalled highway-irl-v2-0.1.0\n",
      "  Running setup.py develop for highway-irl-v2\n",
      "Successfully installed highway-irl-v2-0.1.0\n",
      "Note: you may need to restart the kernel to use updated packages.\n"
     ]
    }
   ],
   "source": [
    "pip install -e ."
   ]
  }
 ],
 "metadata": {
  "kernelspec": {
   "display_name": "Python 3 (ipykernel)",
   "language": "python",
   "name": "python3"
  },
  "language_info": {
   "codemirror_mode": {
    "name": "ipython",
    "version": 3
   },
   "file_extension": ".py",
   "mimetype": "text/x-python",
   "name": "python",
   "nbconvert_exporter": "python",
   "pygments_lexer": "ipython3",
   "version": "3.8.12"
  }
 },
 "nbformat": 4,
 "nbformat_minor": 4
}
