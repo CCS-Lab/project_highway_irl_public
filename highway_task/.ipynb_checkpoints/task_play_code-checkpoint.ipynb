{
 "cells": [
  {
   "cell_type": "code",
   "execution_count": 1,
   "metadata": {
    "tags": []
   },
   "outputs": [],
   "source": [
    "# pip install -e ."
   ]
  },
  {
   "cell_type": "code",
   "execution_count": null,
   "metadata": {},
   "outputs": [
    {
     "name": "stdout",
     "output_type": "stream",
     "text": [
      "pygame 2.1.0 (SDL 2.0.16, Python 3.8.12)\n",
      "Hello from the pygame community. https://www.pygame.org/contribute.html\n",
      "default 80\n",
      "config 60\n"
     ]
    },
    {
     "name": "stderr",
     "output_type": "stream",
     "text": [
      "/Users/shlee/opt/anaconda3/lib/python3.8/site-packages/highway_env/envs/common/observation.py:214: FutureWarning: The frame.append method is deprecated and will be removed from pandas in a future version. Use pandas.concat instead.\n",
      "  df = df.append(pd.DataFrame.from_records(\n",
      "/Users/shlee/opt/anaconda3/lib/python3.8/site-packages/highway_env/envs/common/observation.py:214: FutureWarning: The frame.append method is deprecated and will be removed from pandas in a future version. Use pandas.concat instead.\n",
      "  df = df.append(pd.DataFrame.from_records(\n"
     ]
    },
    {
     "name": "stdout",
     "output_type": "stream",
     "text": [
      "default 80\n",
      "config 80\n",
      "seed 1000\n"
     ]
    },
    {
     "name": "stderr",
     "output_type": "stream",
     "text": [
      "/Users/shlee/opt/anaconda3/lib/python3.8/site-packages/highway_env/envs/common/observation.py:214: FutureWarning: The frame.append method is deprecated and will be removed from pandas in a future version. Use pandas.concat instead.\n",
      "  df = df.append(pd.DataFrame.from_records(\n",
      "/Users/shlee/Desktop/highway_behavior_new/run_highway.py:70: FutureWarning: The frame.append method is deprecated and will be removed from pandas in a future version. Use pandas.concat instead.\n",
      "  one_episode_obs_df=one_episode_obs_df.append(temp_df)\n",
      "/Users/shlee/opt/anaconda3/lib/python3.8/site-packages/highway_env/envs/common/observation.py:214: FutureWarning: The frame.append method is deprecated and will be removed from pandas in a future version. Use pandas.concat instead.\n",
      "  df = df.append(pd.DataFrame.from_records(\n",
      "/Users/shlee/Desktop/highway_behavior_new/run_highway.py:70: FutureWarning: The frame.append method is deprecated and will be removed from pandas in a future version. Use pandas.concat instead.\n",
      "  one_episode_obs_df=one_episode_obs_df.append(temp_df)\n",
      "/Users/shlee/opt/anaconda3/lib/python3.8/site-packages/highway_env/envs/common/observation.py:214: FutureWarning: The frame.append method is deprecated and will be removed from pandas in a future version. Use pandas.concat instead.\n",
      "  df = df.append(pd.DataFrame.from_records(\n",
      "/Users/shlee/Desktop/highway_behavior_new/run_highway.py:70: FutureWarning: The frame.append method is deprecated and will be removed from pandas in a future version. Use pandas.concat instead.\n",
      "  one_episode_obs_df=one_episode_obs_df.append(temp_df)\n",
      "/Users/shlee/opt/anaconda3/lib/python3.8/site-packages/highway_env/envs/common/observation.py:214: FutureWarning: The frame.append method is deprecated and will be removed from pandas in a future version. Use pandas.concat instead.\n",
      "  df = df.append(pd.DataFrame.from_records(\n",
      "/Users/shlee/Desktop/highway_behavior_new/run_highway.py:70: FutureWarning: The frame.append method is deprecated and will be removed from pandas in a future version. Use pandas.concat instead.\n",
      "  one_episode_obs_df=one_episode_obs_df.append(temp_df)\n",
      "/Users/shlee/opt/anaconda3/lib/python3.8/site-packages/highway_env/envs/common/observation.py:214: FutureWarning: The frame.append method is deprecated and will be removed from pandas in a future version. Use pandas.concat instead.\n",
      "  df = df.append(pd.DataFrame.from_records(\n",
      "/Users/shlee/Desktop/highway_behavior_new/run_highway.py:70: FutureWarning: The frame.append method is deprecated and will be removed from pandas in a future version. Use pandas.concat instead.\n",
      "  one_episode_obs_df=one_episode_obs_df.append(temp_df)\n",
      "/Users/shlee/opt/anaconda3/lib/python3.8/site-packages/highway_env/envs/common/observation.py:214: FutureWarning: The frame.append method is deprecated and will be removed from pandas in a future version. Use pandas.concat instead.\n",
      "  df = df.append(pd.DataFrame.from_records(\n",
      "/Users/shlee/Desktop/highway_behavior_new/run_highway.py:70: FutureWarning: The frame.append method is deprecated and will be removed from pandas in a future version. Use pandas.concat instead.\n",
      "  one_episode_obs_df=one_episode_obs_df.append(temp_df)\n",
      "/Users/shlee/opt/anaconda3/lib/python3.8/site-packages/highway_env/envs/common/observation.py:214: FutureWarning: The frame.append method is deprecated and will be removed from pandas in a future version. Use pandas.concat instead.\n",
      "  df = df.append(pd.DataFrame.from_records(\n",
      "/Users/shlee/Desktop/highway_behavior_new/run_highway.py:70: FutureWarning: The frame.append method is deprecated and will be removed from pandas in a future version. Use pandas.concat instead.\n",
      "  one_episode_obs_df=one_episode_obs_df.append(temp_df)\n",
      "/Users/shlee/opt/anaconda3/lib/python3.8/site-packages/highway_env/envs/common/observation.py:214: FutureWarning: The frame.append method is deprecated and will be removed from pandas in a future version. Use pandas.concat instead.\n",
      "  df = df.append(pd.DataFrame.from_records(\n",
      "/Users/shlee/Desktop/highway_behavior_new/run_highway.py:70: FutureWarning: The frame.append method is deprecated and will be removed from pandas in a future version. Use pandas.concat instead.\n",
      "  one_episode_obs_df=one_episode_obs_df.append(temp_df)\n",
      "/Users/shlee/opt/anaconda3/lib/python3.8/site-packages/highway_env/envs/common/observation.py:214: FutureWarning: The frame.append method is deprecated and will be removed from pandas in a future version. Use pandas.concat instead.\n",
      "  df = df.append(pd.DataFrame.from_records(\n",
      "/Users/shlee/Desktop/highway_behavior_new/run_highway.py:70: FutureWarning: The frame.append method is deprecated and will be removed from pandas in a future version. Use pandas.concat instead.\n",
      "  one_episode_obs_df=one_episode_obs_df.append(temp_df)\n",
      "/Users/shlee/opt/anaconda3/lib/python3.8/site-packages/highway_env/envs/common/observation.py:214: FutureWarning: The frame.append method is deprecated and will be removed from pandas in a future version. Use pandas.concat instead.\n",
      "  df = df.append(pd.DataFrame.from_records(\n",
      "/Users/shlee/Desktop/highway_behavior_new/run_highway.py:70: FutureWarning: The frame.append method is deprecated and will be removed from pandas in a future version. Use pandas.concat instead.\n",
      "  one_episode_obs_df=one_episode_obs_df.append(temp_df)\n",
      "/Users/shlee/opt/anaconda3/lib/python3.8/site-packages/highway_env/envs/common/observation.py:214: FutureWarning: The frame.append method is deprecated and will be removed from pandas in a future version. Use pandas.concat instead.\n",
      "  df = df.append(pd.DataFrame.from_records(\n",
      "/Users/shlee/Desktop/highway_behavior_new/run_highway.py:70: FutureWarning: The frame.append method is deprecated and will be removed from pandas in a future version. Use pandas.concat instead.\n",
      "  one_episode_obs_df=one_episode_obs_df.append(temp_df)\n",
      "/Users/shlee/opt/anaconda3/lib/python3.8/site-packages/highway_env/envs/common/observation.py:214: FutureWarning: The frame.append method is deprecated and will be removed from pandas in a future version. Use pandas.concat instead.\n",
      "  df = df.append(pd.DataFrame.from_records(\n",
      "/Users/shlee/Desktop/highway_behavior_new/run_highway.py:70: FutureWarning: The frame.append method is deprecated and will be removed from pandas in a future version. Use pandas.concat instead.\n",
      "  one_episode_obs_df=one_episode_obs_df.append(temp_df)\n",
      "/Users/shlee/opt/anaconda3/lib/python3.8/site-packages/highway_env/envs/common/observation.py:214: FutureWarning: The frame.append method is deprecated and will be removed from pandas in a future version. Use pandas.concat instead.\n",
      "  df = df.append(pd.DataFrame.from_records(\n",
      "/Users/shlee/Desktop/highway_behavior_new/run_highway.py:70: FutureWarning: The frame.append method is deprecated and will be removed from pandas in a future version. Use pandas.concat instead.\n",
      "  one_episode_obs_df=one_episode_obs_df.append(temp_df)\n",
      "/Users/shlee/opt/anaconda3/lib/python3.8/site-packages/highway_env/envs/common/observation.py:214: FutureWarning: The frame.append method is deprecated and will be removed from pandas in a future version. Use pandas.concat instead.\n",
      "  df = df.append(pd.DataFrame.from_records(\n",
      "/Users/shlee/Desktop/highway_behavior_new/run_highway.py:70: FutureWarning: The frame.append method is deprecated and will be removed from pandas in a future version. Use pandas.concat instead.\n",
      "  one_episode_obs_df=one_episode_obs_df.append(temp_df)\n",
      "/Users/shlee/opt/anaconda3/lib/python3.8/site-packages/highway_env/envs/common/observation.py:214: FutureWarning: The frame.append method is deprecated and will be removed from pandas in a future version. Use pandas.concat instead.\n",
      "  df = df.append(pd.DataFrame.from_records(\n",
      "/Users/shlee/Desktop/highway_behavior_new/run_highway.py:70: FutureWarning: The frame.append method is deprecated and will be removed from pandas in a future version. Use pandas.concat instead.\n",
      "  one_episode_obs_df=one_episode_obs_df.append(temp_df)\n",
      "/Users/shlee/opt/anaconda3/lib/python3.8/site-packages/highway_env/envs/common/observation.py:214: FutureWarning: The frame.append method is deprecated and will be removed from pandas in a future version. Use pandas.concat instead.\n",
      "  df = df.append(pd.DataFrame.from_records(\n",
      "/Users/shlee/Desktop/highway_behavior_new/run_highway.py:70: FutureWarning: The frame.append method is deprecated and will be removed from pandas in a future version. Use pandas.concat instead.\n",
      "  one_episode_obs_df=one_episode_obs_df.append(temp_df)\n",
      "/Users/shlee/opt/anaconda3/lib/python3.8/site-packages/highway_env/envs/common/observation.py:214: FutureWarning: The frame.append method is deprecated and will be removed from pandas in a future version. Use pandas.concat instead.\n",
      "  df = df.append(pd.DataFrame.from_records(\n",
      "/Users/shlee/Desktop/highway_behavior_new/run_highway.py:70: FutureWarning: The frame.append method is deprecated and will be removed from pandas in a future version. Use pandas.concat instead.\n",
      "  one_episode_obs_df=one_episode_obs_df.append(temp_df)\n",
      "/Users/shlee/opt/anaconda3/lib/python3.8/site-packages/highway_env/envs/common/observation.py:214: FutureWarning: The frame.append method is deprecated and will be removed from pandas in a future version. Use pandas.concat instead.\n",
      "  df = df.append(pd.DataFrame.from_records(\n",
      "/Users/shlee/Desktop/highway_behavior_new/run_highway.py:70: FutureWarning: The frame.append method is deprecated and will be removed from pandas in a future version. Use pandas.concat instead.\n",
      "  one_episode_obs_df=one_episode_obs_df.append(temp_df)\n",
      "/Users/shlee/opt/anaconda3/lib/python3.8/site-packages/highway_env/envs/common/observation.py:214: FutureWarning: The frame.append method is deprecated and will be removed from pandas in a future version. Use pandas.concat instead.\n",
      "  df = df.append(pd.DataFrame.from_records(\n",
      "/Users/shlee/Desktop/highway_behavior_new/run_highway.py:70: FutureWarning: The frame.append method is deprecated and will be removed from pandas in a future version. Use pandas.concat instead.\n",
      "  one_episode_obs_df=one_episode_obs_df.append(temp_df)\n",
      "/Users/shlee/opt/anaconda3/lib/python3.8/site-packages/highway_env/envs/common/observation.py:214: FutureWarning: The frame.append method is deprecated and will be removed from pandas in a future version. Use pandas.concat instead.\n",
      "  df = df.append(pd.DataFrame.from_records(\n",
      "/Users/shlee/Desktop/highway_behavior_new/run_highway.py:70: FutureWarning: The frame.append method is deprecated and will be removed from pandas in a future version. Use pandas.concat instead.\n",
      "  one_episode_obs_df=one_episode_obs_df.append(temp_df)\n",
      "/Users/shlee/opt/anaconda3/lib/python3.8/site-packages/highway_env/envs/common/observation.py:214: FutureWarning: The frame.append method is deprecated and will be removed from pandas in a future version. Use pandas.concat instead.\n",
      "  df = df.append(pd.DataFrame.from_records(\n",
      "/Users/shlee/Desktop/highway_behavior_new/run_highway.py:70: FutureWarning: The frame.append method is deprecated and will be removed from pandas in a future version. Use pandas.concat instead.\n",
      "  one_episode_obs_df=one_episode_obs_df.append(temp_df)\n",
      "/Users/shlee/opt/anaconda3/lib/python3.8/site-packages/highway_env/envs/common/observation.py:214: FutureWarning: The frame.append method is deprecated and will be removed from pandas in a future version. Use pandas.concat instead.\n",
      "  df = df.append(pd.DataFrame.from_records(\n",
      "/Users/shlee/Desktop/highway_behavior_new/run_highway.py:70: FutureWarning: The frame.append method is deprecated and will be removed from pandas in a future version. Use pandas.concat instead.\n",
      "  one_episode_obs_df=one_episode_obs_df.append(temp_df)\n",
      "/Users/shlee/opt/anaconda3/lib/python3.8/site-packages/highway_env/envs/common/observation.py:214: FutureWarning: The frame.append method is deprecated and will be removed from pandas in a future version. Use pandas.concat instead.\n",
      "  df = df.append(pd.DataFrame.from_records(\n"
     ]
    }
   ],
   "source": [
    "from run_highway import run_highway\n",
    "import warnings\n",
    "warnings.filterwarnings(\"ignore\")\n",
    "\n",
    "sub_num = '01'\n",
    "session_num = '01'\n",
    "duration = 20\n",
    "\n",
    "run_highway(sub_num,session_num,duration,1)\n"
   ]
  },
  {
   "cell_type": "code",
   "execution_count": null,
   "metadata": {},
   "outputs": [],
   "source": []
  }
 ],
 "metadata": {
  "kernelspec": {
   "display_name": "Python 3 (ipykernel)",
   "language": "python",
   "name": "python3"
  },
  "language_info": {
   "codemirror_mode": {
    "name": "ipython",
    "version": 3
   },
   "file_extension": ".py",
   "mimetype": "text/x-python",
   "name": "python",
   "nbconvert_exporter": "python",
   "pygments_lexer": "ipython3",
   "version": "3.8.12"
  }
 },
 "nbformat": 4,
 "nbformat_minor": 4
}
