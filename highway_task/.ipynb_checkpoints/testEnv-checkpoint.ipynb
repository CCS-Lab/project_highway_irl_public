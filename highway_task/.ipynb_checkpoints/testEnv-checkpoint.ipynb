{
 "cells": [
  {
   "cell_type": "code",
   "execution_count": 1,
   "id": "a1005aba-7f2a-40cb-80b8-ebba8b8fc2fc",
   "metadata": {},
   "outputs": [
    {
     "name": "stdout",
     "output_type": "stream",
     "text": [
      "pygame 2.1.0 (SDL 2.0.16, Python 3.8.12)\n",
      "Hello from the pygame community. https://www.pygame.org/contribute.html\n"
     ]
    }
   ],
   "source": [
    "import gym\n",
    "import highway_irl\n",
    "import numpy as np\n",
    "from irl_graphics import EnvViewer2\n",
    "import os\n",
    "from transform_obs import transform_obs_v2 as transform_obs"
   ]
  },
  {
   "cell_type": "code",
   "execution_count": 207,
   "id": "71e3eea4-c975-4118-81f5-e056c008eb41",
   "metadata": {
    "tags": []
   },
   "outputs": [
    {
     "name": "stderr",
     "output_type": "stream",
     "text": [
      "/Users/shlee/opt/anaconda3/lib/python3.8/site-packages/highway_env/envs/common/observation.py:214: FutureWarning: The frame.append method is deprecated and will be removed from pandas in a future version. Use pandas.concat instead.\n",
      "  df = df.append(pd.DataFrame.from_records(\n",
      "/Users/shlee/opt/anaconda3/lib/python3.8/site-packages/highway_env/envs/common/observation.py:214: FutureWarning: The frame.append method is deprecated and will be removed from pandas in a future version. Use pandas.concat instead.\n",
      "  df = df.append(pd.DataFrame.from_records(\n"
     ]
    }
   ],
   "source": [
    "env = gym.make('IRL-v1')\n",
    "env.configure({\n",
    "    \"manual_control\": False,\n",
    "    'duration':60,\n",
    "    \"vehicles_count\":35,\n",
    "    'policy_frequency':5,\n",
    "    \"real_time_rendering\": False,\n",
    "    \"car_allocation\":[0.3,0.4,0.3],\n",
    "    \"screen_width\": 800,  # [px]\n",
    "    \"screen_height\": 400,  # [px]\n",
    "    \"show_reward\": True,\n",
    "    \"seed\": 20,\n",
    "    \"initial_speed\": 25.0,\n",
    "    \"observation\": {\n",
    "        \"type\": \"Kinematics\",\n",
    "        \"absolute\": True,\n",
    "        \"normalize\": False,\n",
    "        \"vehicles_count\": 10\n",
    "    }\n",
    "})\n",
    "env.reset()\n",
    "\n",
    "os.environ[\"SDL_VIDEODRIVER\"] = \"dummy\" #dummy video device\n",
    "if env.viewer is None:\n",
    "    env.viewer = EnvViewer2(env)\n",
    "    \n",
    "lane_speed = [20,20,20] #initial speed"
   ]
  },
  {
   "cell_type": "code",
   "execution_count": 125,
   "id": "0e8914ad-7127-42c0-baa9-7f4ba0665a04",
   "metadata": {},
   "outputs": [],
   "source": [
    "# print(env.step(4))\n",
    "# print(env._is_terminal())"
   ]
  },
  {
   "cell_type": "code",
   "execution_count": 233,
   "id": "932c7a0f-c29b-45c6-9118-b08d630ad248",
   "metadata": {},
   "outputs": [
    {
     "name": "stdout",
     "output_type": "stream",
     "text": [
      "[0.37499523 0.5071997  0.5        0.25       0.75       0.46260935\n",
      " 0.25147512 0.46913829] False\n"
     ]
    },
    {
     "name": "stderr",
     "output_type": "stream",
     "text": [
      "/Users/shlee/opt/anaconda3/lib/python3.8/site-packages/highway_env/envs/common/observation.py:214: FutureWarning: The frame.append method is deprecated and will be removed from pandas in a future version. Use pandas.concat instead.\n",
      "  df = df.append(pd.DataFrame.from_records(\n"
     ]
    }
   ],
   "source": [
    "discretize = False\n",
    "two_distance = False\n",
    "# env.render()\n",
    "obs, reward, done, info = env.step(1)\n",
    "state,lane_speed = transform_obs(obs,lane_speed,discretize,two_distance)\n",
    "# print(obs)\n",
    "print(state,env._is_terminal())\n",
    "# print(state[1]*8,env.prevent_key)"
   ]
  },
  {
   "cell_type": "code",
   "execution_count": 128,
   "id": "28ab486c-3696-4743-9ef1-b9b7f0388375",
   "metadata": {},
   "outputs": [
    {
     "data": {
      "text/plain": [
       "array([  1.      , 213.97876 ,   5.524145,  22.31019 , -11.280756],\n",
       "      dtype=float32)"
      ]
     },
     "execution_count": 128,
     "metadata": {},
     "output_type": "execute_result"
    }
   ],
   "source": [
    "# env.observation_type.observe()\n",
    "obs_self = obs[0]\n",
    "obs_other = obs[1:]\n",
    "obs_self"
   ]
  },
  {
   "cell_type": "code",
   "execution_count": 129,
   "id": "3a3cd176-4695-47b0-aaef-784325581d5f",
   "metadata": {},
   "outputs": [],
   "source": [
    "## env._is_terminal() -> done\n",
    "## obs: presence, location, lane, speed, y-speed"
   ]
  },
  {
   "cell_type": "code",
   "execution_count": 9,
   "id": "d152884b-b93c-4649-bbc5-7d17e4eaef56",
   "metadata": {},
   "outputs": [
    {
     "data": {
      "text/plain": [
       "array([[  1.     , 323.82535,   4.     ,  20.     ,   0.     ],\n",
       "       [  1.     , 349.1243 ,   8.     ,  30.     ,   0.     ],\n",
       "       [  1.     , 370.1656 ,   0.     ,  25.     ,   0.     ],\n",
       "       [  1.     , 394.8769 ,   8.     ,  30.     ,   0.     ],\n",
       "       [  1.     , 416.3143 ,   4.     ,  20.     ,   0.     ],\n",
       "       [  1.     , 438.72025,   4.     ,  20.     ,   0.     ],\n",
       "       [  1.     , 461.2429 ,   4.     ,  20.     ,   0.     ],\n",
       "       [  1.     , 483.46188,   8.     ,  30.     ,   0.     ],\n",
       "       [  1.     , 506.29483,   8.     ,  30.     ,   0.     ]],\n",
       "      dtype=float32)"
      ]
     },
     "execution_count": 9,
     "metadata": {},
     "output_type": "execute_result"
    }
   ],
   "source": [
    "obs_other"
   ]
  },
  {
   "cell_type": "code",
   "execution_count": 24,
   "id": "0179bf98-dc35-4768-b765-bc59fb9191e9",
   "metadata": {},
   "outputs": [
    {
     "name": "stdout",
     "output_type": "stream",
     "text": [
      "[[  1.      323.82535   4.       20.        0.     ]\n",
      " [  1.      416.3143    4.       20.        0.     ]\n",
      " [  1.      438.72025   4.       20.        0.     ]\n",
      " [  1.      461.2429    4.       20.        0.     ]]\n"
     ]
    },
    {
     "data": {
      "text/plain": [
       "416.3143"
      ]
     },
     "execution_count": 24,
     "metadata": {},
     "output_type": "execute_result"
    }
   ],
   "source": [
    "np.sort(obs_other[:,1])\n",
    "print(obs_other[obs_other[:,2] == 4])\n",
    "np.sort(obs_other[obs_other[:,2] == 4][:,1])[1]"
   ]
  },
  {
   "cell_type": "code",
   "execution_count": 535,
   "id": "73f233ee-73d1-4455-866b-0f39ab78ab17",
   "metadata": {},
   "outputs": [],
   "source": [
    "laneList = [0,4,8]\n",
    "max_distance = 300\n",
    "lane_distance = [max_distance]*3 #list of lane distance (default: max distance)\n",
    "lane_speed = [20,20,20] #default:initial speed\n",
    "\n",
    "for iLane in range(len(laneList)):\n",
    "    if len(obs_other[obs_other[:,2] == laneList[iLane]]) > 0:\n",
    "        lane_distance[iLane] = min(np.min(obs_other[obs_other[:,2] == laneList[iLane]][:,1])-obs_self[1], max_distance)\n",
    "        lane_speed[iLane] = (obs_other[obs_other[:,2] == laneList[iLane]][:,3])[0]\n",
    "        \n",
    "state = np.concatenate(([obs_self[3],obs_self[2]],lane_speed,lane_distance))"
   ]
  },
  {
   "cell_type": "code",
   "execution_count": 536,
   "id": "cb368cc3-8d01-4149-a22a-ec3909a855b5",
   "metadata": {},
   "outputs": [
    {
     "data": {
      "text/plain": [
       "array([ 20.     ,   8.     ,  25.     ,  20.     ,  30.     , 156.85971,\n",
       "       110.51947, 135.81842], dtype=float32)"
      ]
     },
     "execution_count": 536,
     "metadata": {},
     "output_type": "execute_result"
    }
   ],
   "source": [
    "state"
   ]
  },
  {
   "cell_type": "code",
   "execution_count": 528,
   "id": "159b0099-eeb2-43a7-9c84-0ad3b1c6ef26",
   "metadata": {},
   "outputs": [
    {
     "data": {
      "text/plain": [
       "array([ 1.0000000e+00,  3.3258511e+02, -1.4499125e-02,  1.9999842e+01,\n",
       "        7.9483517e-02], dtype=float32)"
      ]
     },
     "execution_count": 528,
     "metadata": {},
     "output_type": "execute_result"
    }
   ],
   "source": [
    "obs_self"
   ]
  },
  {
   "cell_type": "code",
   "execution_count": 521,
   "id": "961f04bd-cbac-400d-b859-27733b0402a9",
   "metadata": {},
   "outputs": [
    {
     "name": "stdout",
     "output_type": "stream",
     "text": [
      "distance [488.83228 427.492   488.79095]\n",
      "speed [30. 25. 35.]\n"
     ]
    }
   ],
   "source": [
    "print(\"distance\",np.array(lane_distance) + obs_self[1])\n",
    "print(\"speed\",np.array(lane_speed))"
   ]
  },
  {
   "cell_type": "code",
   "execution_count": 512,
   "id": "a589c120-0a20-46f8-aa13-e0954026e682",
   "metadata": {},
   "outputs": [
    {
     "data": {
      "text/plain": [
       "35.0"
      ]
     },
     "execution_count": 512,
     "metadata": {},
     "output_type": "execute_result"
    }
   ],
   "source": [
    "(obs_other[obs_other[:,2] == laneList[iLane]][:,3])[0]"
   ]
  },
  {
   "cell_type": "code",
   "execution_count": 419,
   "id": "9392e0e0-3bb2-4928-b08d-fa21639ef377",
   "metadata": {},
   "outputs": [
    {
     "data": {
      "text/plain": [
       "array([[  1.     , 204.6392 ,   8.     ,  25.     ,   0.     ],\n",
       "       [  1.     , 315.82535,   4.     ,  20.     ,   0.     ],\n",
       "       [  1.     , 338.79095,   8.     ,  20.     ,   0.     ],\n",
       "       [  1.     , 361.49893,   0.     ,  20.     ,   0.     ],\n",
       "       [  1.     , 384.54355,   8.     ,  20.     ,   0.     ],\n",
       "       [  1.     , 408.3143 ,   4.     ,  20.     ,   0.     ],\n",
       "       [  1.     , 430.72025,   4.     ,  20.     ,   0.     ],\n",
       "       [  1.     , 453.2429 ,   4.     ,  20.     ,   0.     ],\n",
       "       [  1.     , 473.12857,   8.     ,  20.     ,   0.     ],\n",
       "       [  1.     , 495.9615 ,   8.     ,  20.     ,   0.     ]],\n",
       "      dtype=float32)"
      ]
     },
     "execution_count": 419,
     "metadata": {},
     "output_type": "execute_result"
    }
   ],
   "source": [
    "env.observation_type.observe()"
   ]
  },
  {
   "cell_type": "code",
   "execution_count": 489,
   "id": "f3a0e40e-e825-4d28-80fa-cd8ba99ea17a",
   "metadata": {},
   "outputs": [
    {
     "data": {
      "text/plain": [
       "0"
      ]
     },
     "execution_count": 489,
     "metadata": {},
     "output_type": "execute_result"
    }
   ],
   "source": [
    "len(obs_other[obs_other[:,2] == 0])"
   ]
  },
  {
   "cell_type": "code",
   "execution_count": 537,
   "id": "546e7784-d5c1-49dd-9f0a-153577c00a70",
   "metadata": {},
   "outputs": [
    {
     "data": {
      "text/plain": [
       "[25.0, 20.0, 30.0]"
      ]
     },
     "execution_count": 537,
     "metadata": {},
     "output_type": "execute_result"
    }
   ],
   "source": [
    "lane_speed"
   ]
  },
  {
   "cell_type": "code",
   "execution_count": 538,
   "id": "24027f16-c3ea-4e3f-b999-b434658b614b",
   "metadata": {},
   "outputs": [
    {
     "data": {
      "text/plain": [
       "array([25., 25., 30.], dtype=float32)"
      ]
     },
     "execution_count": 538,
     "metadata": {},
     "output_type": "execute_result"
    }
   ],
   "source": [
    "np.clip(lane_speed,25,30)"
   ]
  },
  {
   "cell_type": "code",
   "execution_count": 93,
   "id": "c2aaa4f9-7f8a-476b-8d79-eefd6dfad490",
   "metadata": {},
   "outputs": [
    {
     "data": {
      "text/plain": [
       "1"
      ]
     },
     "execution_count": 93,
     "metadata": {},
     "output_type": "execute_result"
    }
   ],
   "source": [
    "change_lane = np.array([0,2])\n",
    "np.sum(change_lane==0.0)"
   ]
  },
  {
   "cell_type": "code",
   "execution_count": 109,
   "id": "4a60c74b-33b8-4ca6-a0b5-9bd7ca117dd6",
   "metadata": {},
   "outputs": [],
   "source": [
    "prevent_key = 0"
   ]
  },
  {
   "cell_type": "code",
   "execution_count": 126,
   "id": "451374a3-851e-41ea-8556-7480bef537af",
   "metadata": {},
   "outputs": [
    {
     "name": "stdout",
     "output_type": "stream",
     "text": [
      "1 2\n"
     ]
    }
   ],
   "source": [
    "action=2\n",
    "#prevent keypress for 4 consecutive actions after pressing lane-changing keys\n",
    "if (np.sum(change_lane == action) == 1) and (prevent_key == 0):\n",
    "    prevent_key += 1\n",
    "elif prevent_key > 0:\n",
    "    action = 1\n",
    "    prevent_key += 1\n",
    "    if prevent_key == 5:\n",
    "        prevent_key = 0\n",
    "print(prevent_key,action)"
   ]
  },
  {
   "cell_type": "code",
   "execution_count": 28,
   "id": "246a93a8-4a28-4beb-8424-cb9ceabc53c2",
   "metadata": {},
   "outputs": [
    {
     "data": {
      "text/plain": [
       "36"
      ]
     },
     "execution_count": 28,
     "metadata": {},
     "output_type": "execute_result"
    }
   ],
   "source": [
    "len(env.road.vehicles)"
   ]
  },
  {
   "cell_type": "code",
   "execution_count": null,
   "id": "20e7f3d2-6458-4966-8a0e-840cf7c85d2d",
   "metadata": {},
   "outputs": [],
   "source": [
    "env = gym.make('IRL-v1')\n",
    "env.config=np.load('env_configure/config_20.npy', allow_pickle = True).tolist()\n",
    "env.reset()\n",
    "print(env.observation_space.shape)"
   ]
  },
  {
   "cell_type": "code",
   "execution_count": null,
   "id": "a9d69c6d-a533-4edb-8e51-4c414c01b498",
   "metadata": {},
   "outputs": [],
   "source": [
    "env.config"
   ]
  },
  {
   "cell_type": "code",
   "execution_count": 33,
   "id": "55e32848-27f1-4898-93b8-dad9f39fbe15",
   "metadata": {},
   "outputs": [
    {
     "data": {
      "text/plain": [
       "False"
      ]
     },
     "execution_count": 33,
     "metadata": {},
     "output_type": "execute_result"
    }
   ],
   "source": [
    "env._is_terminal()"
   ]
  },
  {
   "cell_type": "code",
   "execution_count": 37,
   "id": "e19a08cf-a859-4b78-8934-69c4424768fc",
   "metadata": {},
   "outputs": [
    {
     "data": {
      "text/plain": [
       "{'observation': {'type': 'Kinematics',\n",
       "  'absolute': True,\n",
       "  'normalize': False,\n",
       "  'vehicles_count': 10},\n",
       " 'action': {'type': 'DiscreteMetaAction'},\n",
       " 'simulation_frequency': 15,\n",
       " 'policy_frequency': 5,\n",
       " 'other_vehicles_type': 'highway_env.vehicle.behavior.IDMVehicle',\n",
       " 'screen_width': 800,\n",
       " 'screen_height': 400,\n",
       " 'centering_position': [0.3, 0.5],\n",
       " 'scaling': 5.5,\n",
       " 'show_trajectories': False,\n",
       " 'render_agent': True,\n",
       " 'offscreen_rendering': False,\n",
       " 'manual_control': False,\n",
       " 'real_time_rendering': False,\n",
       " 'lanes_count': 3,\n",
       " 'vehicles_count': 35,\n",
       " 'controlled_vehicles': 1,\n",
       " 'initial_lane_id': 0,\n",
       " 'duration': 60,\n",
       " 'ego_spacing': 2,\n",
       " 'vehicles_density': 1,\n",
       " 'collision_reward': -50,\n",
       " 'right_lane_reward': 0.1,\n",
       " 'high_speed_reward': 8,\n",
       " 'lane_change_reward': 0,\n",
       " 'reward_speed_range': [20, 60],\n",
       " 'offroad_terminal': False,\n",
       " 'car_allocation': [0.3, 0.4, 0.3],\n",
       " 'show_reward': True,\n",
       " 'show_speed': True,\n",
       " 'seed': 20,\n",
       " 'initial_speed': 44.99999999999999,\n",
       " 'max_reward': 38.800000000000004}"
      ]
     },
     "execution_count": 37,
     "metadata": {},
     "output_type": "execute_result"
    }
   ],
   "source": [
    "env.config"
   ]
  },
  {
   "cell_type": "code",
   "execution_count": 65,
   "id": "17cbd3c7-bdc8-4d00-becd-56f0fad5af13",
   "metadata": {},
   "outputs": [
    {
     "data": {
      "text/plain": [
       "array([[  1.     , 308.2858 ,   0.     ,  45.     ,   0.     ],\n",
       "       [  1.     , 426.72473,   8.     ,  20.     ,   0.     ],\n",
       "       [  1.     , 449.5286 ,   4.     ,  20.     ,   0.     ],\n",
       "       [  1.     , 471.9684 ,   8.     ,  20.     ,   0.     ],\n",
       "       [  1.     , 492.95517,   4.     ,  20.     ,   0.     ],\n",
       "       [  1.     , 512.942  ,   8.     ,  20.     ,   0.     ],\n",
       "       [  1.     , 534.02106,   0.     ,  20.     ,   0.     ],\n",
       "       [  1.     , 557.79443,   4.     ,  20.     ,   0.     ],\n",
       "       [  1.     , 581.2562 ,   8.     ,  20.     ,   0.     ],\n",
       "       [  1.     , 604.42615,   8.     ,  20.     ,   0.     ]],\n",
       "      dtype=float32)"
      ]
     },
     "execution_count": 65,
     "metadata": {},
     "output_type": "execute_result"
    }
   ],
   "source": [
    "env.config['seed'] = 10\n",
    "env.reset()"
   ]
  },
  {
   "cell_type": "code",
   "execution_count": 86,
   "id": "6f2144d2-9a90-4a20-8d05-01db7935b50a",
   "metadata": {},
   "outputs": [
    {
     "data": {
      "text/plain": [
       "282"
      ]
     },
     "execution_count": 86,
     "metadata": {},
     "output_type": "execute_result"
    }
   ],
   "source": [
    "np.random.randint(0,1000)"
   ]
  },
  {
   "cell_type": "code",
   "execution_count": 91,
   "id": "1e54a473-4c44-4f43-ac88-1245bbefce65",
   "metadata": {},
   "outputs": [
    {
     "data": {
      "text/plain": [
       "0.0"
      ]
     },
     "execution_count": 91,
     "metadata": {},
     "output_type": "execute_result"
    }
   ],
   "source": [
    "env.observation_type.observe()[0,2]"
   ]
  },
  {
   "cell_type": "code",
   "execution_count": 26,
   "id": "93a2f57e-8b10-41ba-a904-41ecf40b9fb6",
   "metadata": {},
   "outputs": [],
   "source": [
    "def greet(name, a=\"b\",msg=\"Good morning!\"):\n",
    "    \"\"\"\n",
    "    This function greets to\n",
    "    the person with the\n",
    "    provided message.\n",
    "\n",
    "    If the message is not provided,\n",
    "    it defaults to \"Good\n",
    "    morning!\"\n",
    "    \"\"\"\n",
    "\n",
    "    print(\"Hello\", name + ', ' + msg)"
   ]
  },
  {
   "cell_type": "code",
   "execution_count": 28,
   "id": "32deda05-2989-4ce3-ba9d-fd897c3f874f",
   "metadata": {},
   "outputs": [
    {
     "name": "stdout",
     "output_type": "stream",
     "text": [
      "Hello e, hi\n"
     ]
    }
   ],
   "source": [
    "greet(\"e\",msg = \"hi\")"
   ]
  },
  {
   "cell_type": "code",
   "execution_count": 29,
   "id": "7b1242d3-000a-4c5e-a0fd-a6f7753a3ae7",
   "metadata": {},
   "outputs": [],
   "source": [
    "expert_observations = np.load('traj_from_data/sub0/observations_double.npy')"
   ]
  },
  {
   "cell_type": "code",
   "execution_count": 33,
   "id": "13644372-867e-4cbe-8c3c-ba007ccefe8c",
   "metadata": {},
   "outputs": [
    {
     "data": {
      "text/plain": [
       "array([0.125     , 1.        , 0.        , 0.25      , 0.        ,\n",
       "       0.33775019, 0.48301183, 0.54622248, 0.40975642, 0.84659866,\n",
       "       0.77134842])"
      ]
     },
     "execution_count": 33,
     "metadata": {},
     "output_type": "execute_result"
    }
   ],
   "source": [
    "expert_observations[2]"
   ]
  },
  {
   "cell_type": "code",
   "execution_count": null,
   "id": "d59570b4-ef66-41fb-87d0-0a596a146c55",
   "metadata": {},
   "outputs": [],
   "source": []
  }
 ],
 "metadata": {
  "kernelspec": {
   "display_name": "Python 3 (ipykernel)",
   "language": "python",
   "name": "python3"
  },
  "language_info": {
   "codemirror_mode": {
    "name": "ipython",
    "version": 3
   },
   "file_extension": ".py",
   "mimetype": "text/x-python",
   "name": "python",
   "nbconvert_exporter": "python",
   "pygments_lexer": "ipython3",
   "version": "3.8.12"
  }
 },
 "nbformat": 4,
 "nbformat_minor": 5
}
